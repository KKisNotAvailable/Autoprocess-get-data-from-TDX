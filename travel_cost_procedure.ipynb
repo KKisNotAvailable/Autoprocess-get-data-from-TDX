{
 "cells": [
  {
   "cell_type": "markdown",
   "metadata": {},
   "source": [
    "# Introduction\n",
    "<!-- notice we only need to focus on the implementation detail in this file -->\n",
    "1. Public Data (just describe a bit and tell them to check another file)\n",
    "2. Private Data (combine the original and reversed times and save to main path, also need to explain a bit how the data was obtained)\n",
    "3. Survey Data (explain)\n",
    "- to mode percent\n",
    "- to commuting flow\n",
    "4. Parameter Estimation\n",
    "- combine neighborhoods to counties\n",
    "- estimate gamma and delta\n",
    "- estimate epsilon times k"
   ]
  },
  {
   "cell_type": "markdown",
   "metadata": {
    "vscode": {
     "languageId": "plaintext"
    }
   },
   "source": [
    "# Public Data\n",
    "The public transit data is mainly retrieved from the Transport Data eXchange platform, hosted by the Taiwan Ministry of Transportation and Communication (MOTC). For travel data not available at the TDX platform, we use walking data from OSRM and Google Maps routing service instead.\n",
    "\n",
    "Please refer to the public_data_procedure.ipynb for the step-by-step procedure."
   ]
  },
  {
   "cell_type": "markdown",
   "metadata": {},
   "source": [
    "# Private Data\n",
    "We define the routing result for car from OSRM as our private travel data. We have the back and forth travel time recorded in separate files, thus we combine them for later analysis."
   ]
  },
  {
   "cell_type": "code",
   "execution_count": null,
   "metadata": {},
   "outputs": [
    {
     "name": "stdout",
     "output_type": "stream",
     "text": [
      "Should be no empty:\n",
      "There are 0 empty values in BA_travel_time\n",
      "Private data saved.\n"
     ]
    }
   ],
   "source": [
    "import pandas as pd\n",
    "import os\n",
    "\n",
    "FOLDER_PRIVATE_RAW = 'JJinTP_data_TW/car_data/Raw/'\n",
    "FOLDER_PRIVATE_MAIN = 'JJinTP_data_TW/car_data/Main/'\n",
    "\n",
    "keep_cols = ['id_orig', 'id_dest', 'duration']\n",
    "\n",
    "car_data1 = pd.read_csv(\n",
    "    os.path.join(FOLDER_PRIVATE_RAW, 'travel_driving_20241206134817.csv'),\n",
    "    usecols=keep_cols, dtype={'id_orig': 'str', 'id_dest': 'str'}\n",
    ")\n",
    "car_data2 = pd.read_csv(\n",
    "    os.path.join(FOLDER_PRIVATE_RAW, 'travel_driving_reverse_20250320165625.csv'),\n",
    "    usecols=keep_cols, dtype={'id_orig': 'str', 'id_dest': 'str'}\n",
    ")\n",
    "\n",
    "# since the ids in the two dataframes are in reverse order,\n",
    "# we could join them by reversing the ids in one of the dataframes\n",
    "car_data1 = car_data1.rename(\n",
    "    columns={'id_orig': 'A_villcode', 'id_dest': 'B_villcode', 'duration': 'AB_travel_time'}\n",
    ")\n",
    "car_data2 = car_data2.rename(\n",
    "    columns={'id_orig': 'B_villcode', 'id_dest': 'A_villcode', 'duration': 'BA_travel_time'}\n",
    ")\n",
    "private_data = car_data1.merge(car_data2, on=['A_villcode', 'B_villcode'], how='left')\n",
    "\n",
    "print(\"Should be no empty:\")\n",
    "na_cnt = private_data['BA_travel_time'].isnull().sum()\n",
    "print(f\"There are {na_cnt} empty values in BA_travel_time\")\n",
    "\n",
    "# save the data\n",
    "private_data.to_csv(\n",
    "    os.path.join(FOLDER_PRIVATE_MAIN, 'private_travel_time.csv'),\n",
    "    index=False\n",
    ")\n",
    "print(\"Private data saved.\")\n"
   ]
  },
  {
   "cell_type": "markdown",
   "metadata": {},
   "source": [
    "# Survey Data\n",
    "The survey was done by Taiwan MOTC, sampled from all of the administrative cities, about the daily transportation mode used by the public. We used the calibration data to extract the counties of our interest. \n",
    "\n",
    "This survey data would be used as the possibility of usage of transit modes and the commuting flow."
   ]
  },
  {
   "cell_type": "code",
   "execution_count": 1,
   "metadata": {},
   "outputs": [],
   "source": [
    "import helper\n",
    "\n",
    "FOLDER_SURVEY_RAW = 'JJinTP_data_TW/survey_data/Raw/'\n",
    "FOLDER_SURVEY_SCRATCH = 'JJinTP_data_TW/survey_data/Scratch/'\n",
    "FOLDER_SURVEY_MAIN = 'JJinTP_data_TW/survey_data/Main/'\n",
    "\n",
    "FILE_CALIB = \"JJinTP_data_TW/calibration_data_TP.csv\"\n",
    "\n",
    "htc = helper.Helper_travel_cost(\n",
    "    calib_path=FILE_CALIB\n",
    ")\n",
    "\n",
    "# Survey data\n",
    "years = list(range(98, 106))  # ROC 98-105 = year 2009-2016\n",
    "htc.process_survey(\n",
    "    years=years,\n",
    "    survey_raw=FOLDER_SURVEY_RAW,\n",
    "    survey_scratch=FOLDER_SURVEY_SCRATCH,\n",
    "    out_path=FOLDER_SURVEY_MAIN\n",
    ")  # creates public_mode_cnt.csv and private_mode_cnt.csv"
   ]
  },
  {
   "cell_type": "markdown",
   "metadata": {},
   "source": [
    "# Parameter Estimation\n",
    "There will be two steps of estimation.\n",
    "1. estimate $\\gamma$ and $\\delta$\n",
    "2. estimate $\\varepsilon k$\n",
    "\n",
    "Before estimation, there are several steps of preparation:\n",
    "1. merge neighborhood-level travel time to county-level\n",
    "2. turn the data into matrix for $\\gamma$ and $\\delta$ estimation\n",
    "3. "
   ]
  },
  {
   "cell_type": "code",
   "execution_count": 1,
   "metadata": {},
   "outputs": [],
   "source": [
    "# ======= Preparation =======\n",
    "import pandas as pd\n",
    "import os\n",
    "import helper\n",
    "\n",
    "# File and Folder settings\n",
    "FOLDER_PUBLIC_MAIN = 'JJinTP_data_TW/public_data/Main/'\n",
    "FOLDER_PRIVATE_MAIN = 'JJinTP_data_TW/car_data/Main/'\n",
    "\n",
    "FILE_CALIB = \"JJinTP_data_TW/calibration_data_TP.csv\"\n",
    "\n",
    "# Read travel time data\n",
    "public_data = pd.read_csv(\n",
    "    os.path.join(FOLDER_PUBLIC_MAIN, 'public_travel_time_revised.csv'),\n",
    "    dtype={'A_villcode': 'str', 'B_villcode': 'str'}\n",
    ")\n",
    "private_data = pd.read_csv(\n",
    "    os.path.join(FOLDER_PRIVATE_MAIN, 'private_travel_time.csv'),\n",
    "    dtype={'A_villcode': 'str', 'B_villcode': 'str'}\n",
    ")\n",
    "\n",
    "# Neighborhoods to counties (travel time)\n",
    "htc = helper.Helper_travel_cost(\n",
    "    calib_path=FILE_CALIB\n",
    ")\n",
    "\n",
    "htc.neighborhood_to_county(\n",
    "    mode='public',  # just for out file naming\n",
    "    in_path=FOLDER_PUBLIC_MAIN,\n",
    "    out_path=FOLDER_PUBLIC_MAIN\n",
    ")  # saved as public_county_tt_mat.csv\n",
    "htc.neighborhood_to_county(\n",
    "    mode='private',\n",
    "    in_path=FOLDER_PRIVATE_MAIN,\n",
    "    out_path=FOLDER_PRIVATE_MAIN\n",
    ")  # saved as private_county_tt_mat.csv"
   ]
  },
  {
   "cell_type": "markdown",
   "metadata": {},
   "source": [
    "### Estimation: $\\gamma$ and $\\delta$\n",
    "Note that $\\gamma$ stands for fixed costs and $\\delta$ stands for variable costs of using transit mode."
   ]
  },
  {
   "cell_type": "code",
   "execution_count": 2,
   "metadata": {},
   "outputs": [
    {
     "data": {
      "text/html": [
       "\n",
       "            <div id=\"IUTmNk\"></div>\n",
       "            <script type=\"text/javascript\" data-lets-plot-script=\"library\">\n",
       "                if(!window.letsPlotCallQueue) {\n",
       "                    window.letsPlotCallQueue = [];\n",
       "                }; \n",
       "                window.letsPlotCall = function(f) {\n",
       "                    window.letsPlotCallQueue.push(f);\n",
       "                };\n",
       "                (function() {\n",
       "                    var script = document.createElement(\"script\");\n",
       "                    script.type = \"text/javascript\";\n",
       "                    script.src = \"https://cdn.jsdelivr.net/gh/JetBrains/lets-plot@v4.5.2/js-package/distr/lets-plot.min.js\";\n",
       "                    script.onload = function() {\n",
       "                        window.letsPlotCall = function(f) {f();};\n",
       "                        window.letsPlotCallQueue.forEach(function(f) {f();});\n",
       "                        window.letsPlotCallQueue = [];\n",
       "                        \n",
       "                    };\n",
       "                    script.onerror = function(event) {\n",
       "                        window.letsPlotCall = function(f) {};    // noop\n",
       "                        window.letsPlotCallQueue = [];\n",
       "                        var div = document.createElement(\"div\");\n",
       "                        div.style.color = 'darkred';\n",
       "                        div.textContent = 'Error loading Lets-Plot JS';\n",
       "                        document.getElementById(\"IUTmNk\").appendChild(div);\n",
       "                    };\n",
       "                    var e = document.getElementById(\"IUTmNk\");\n",
       "                    e.appendChild(script);\n",
       "                })()\n",
       "            </script>\n",
       "            "
      ]
     },
     "metadata": {},
     "output_type": "display_data"
    },
    {
     "data": {
      "text/html": [
       "\n",
       "            <div id=\"WTmOTZ\"></div>\n",
       "            <script type=\"text/javascript\" data-lets-plot-script=\"library\">\n",
       "                if(!window.letsPlotCallQueue) {\n",
       "                    window.letsPlotCallQueue = [];\n",
       "                }; \n",
       "                window.letsPlotCall = function(f) {\n",
       "                    window.letsPlotCallQueue.push(f);\n",
       "                };\n",
       "                (function() {\n",
       "                    var script = document.createElement(\"script\");\n",
       "                    script.type = \"text/javascript\";\n",
       "                    script.src = \"https://cdn.jsdelivr.net/gh/JetBrains/lets-plot@v4.5.2/js-package/distr/lets-plot.min.js\";\n",
       "                    script.onload = function() {\n",
       "                        window.letsPlotCall = function(f) {f();};\n",
       "                        window.letsPlotCallQueue.forEach(function(f) {f();});\n",
       "                        window.letsPlotCallQueue = [];\n",
       "                        \n",
       "                    };\n",
       "                    script.onerror = function(event) {\n",
       "                        window.letsPlotCall = function(f) {};    // noop\n",
       "                        window.letsPlotCallQueue = [];\n",
       "                        var div = document.createElement(\"div\");\n",
       "                        div.style.color = 'darkred';\n",
       "                        div.textContent = 'Error loading Lets-Plot JS';\n",
       "                        document.getElementById(\"WTmOTZ\").appendChild(div);\n",
       "                    };\n",
       "                    var e = document.getElementById(\"WTmOTZ\");\n",
       "                    e.appendChild(script);\n",
       "                })()\n",
       "            </script>\n",
       "            "
      ]
     },
     "metadata": {},
     "output_type": "display_data"
    }
   ],
   "source": [
    "# ======= Estimation: gamma and delta =======\n",
    "import os\n",
    "import pandas as pd\n",
    "import travel_cost as tc\n",
    "\n",
    "# File and Folder settings\n",
    "FOLDER_PUBLIC_MAIN = 'JJinTP_data_TW/public_data/Main/'\n",
    "FOLDER_PRIVATE_MAIN = 'JJinTP_data_TW/car_data/Main/'\n",
    "FOLDER_SURVEY_MAIN = 'JJinTP_data_TW/survey_data/Main/'\n",
    "\n",
    "# Read data\n",
    "pub_mode_cnt = pd.read_csv(os.path.join(FOLDER_SURVEY_MAIN, 'public_mode_cnt.csv'))\n",
    "pri_mode_cnt = pd.read_csv(os.path.join(FOLDER_SURVEY_MAIN, 'private_mode_cnt.csv'))\n",
    "pub_tt_mat = pd.read_csv(os.path.join(FOLDER_PUBLIC_MAIN, 'public_county_tt_mat.csv'))\n",
    "pri_tt_mat = pd.read_csv(os.path.join(FOLDER_PRIVATE_MAIN, 'private_county_tt_mat.csv'))\n",
    "\n",
    "# old data to test\n",
    "pub_tt_mat = pd.read_csv(os.path.join('JJinTP_data_TW/archive/', 'public_town_travel_mat.csv'))\n",
    "# pri_tt_mat = pd.read_csv(os.path.join('JJinTP_data_TW/archive/', 'private_town_travel_mat.csv'))\n",
    "\n",
    "\n",
    "# Prep\n",
    "counties = pub_tt_mat.columns  # the list of county codes\n",
    "pub_tt_mat = pub_tt_mat.values / 60  # convert to minutes\n",
    "pri_tt_mat = pri_tt_mat.values / 60"
   ]
  },
  {
   "cell_type": "code",
   "execution_count": 7,
   "metadata": {},
   "outputs": [
    {
     "data": {
      "image/png": "[encoded data removed]",
      "text/plain": [
       "<Figure size 640x480 with 1 Axes>"
      ]
     },
     "metadata": {},
     "output_type": "display_data"
    }
   ],
   "source": [
    "# Manual search for 'global' minimum\n",
    "# test on 0.01 ~ 1\n",
    "step_setting = {\n",
    "    \"step_size\": 0.01,\n",
    "    \"step_method\": '+'\n",
    "}\n",
    "\n",
    "opt = tc.manual_minimize(\n",
    "    init_val=1,\n",
    "    bounds=[0.01, 600],  # number higher than 650 will cause problem\n",
    "    public_travel_mat=pub_tt_mat,\n",
    "    private_travel_mat=pri_tt_mat,\n",
    "    public_transport_cnt_mat=pub_mode_cnt.values,\n",
    "    private_transport_cnt_mat=pri_mode_cnt.values,\n",
    "    show_plot=True,\n",
    "    **step_setting\n",
    ")"
   ]
  },
  {
   "cell_type": "code",
   "execution_count": null,
   "metadata": {},
   "outputs": [],
   "source": [
    "# Travel cost and save the melted matrix\n",
    "from helper import Utils\n",
    "import pandas as pd\n",
    "\n",
    "# gamma_public, gamma_private, delta_public, delta_private\n",
    "# optimal_params = opt['params']  # [0.32878638, 0, 0.02145531, 0.07643203]\n",
    "\n",
    "optimal_params = [0.32878638, 0, 0.02145531, 0.07643203]\n",
    "\n",
    "nbh_travel_cost = tc.travel_cost(\n",
    "    optimal_params,\n",
    "    public_travel_mat=pub_tt_mat,\n",
    "    private_travel_mat=pri_tt_mat\n",
    ")\n",
    "\n",
    "# melt the matrix\n",
    "util = Utils()\n",
    "nbh_travel_cost_melted = util.melt_mat(\n",
    "    mat=nbh_travel_cost,\n",
    "    index_list=counties,\n",
    "    is_same=False,\n",
    "    keep_diag=True\n",
    ")\n",
    "nbh_travel_cost_melted.columns = ['A_TOWNCODE', 'B_TOWNCODE', 'AB_travel_cost', 'BA_travel_cost']\n",
    "\n",
    "# output for manual check (since output as .dta is hard to check)\n",
    "out_fpath = 'JJinTP_data_TW/travel_cost.csv'\n",
    "if os.path.exists(out_fpath):\n",
    "    print(\"Please remove the file first.\")\n",
    "else:\n",
    "    nbh_travel_cost_melted.to_csv(out_fpath, index=False)"
   ]
  },
  {
   "cell_type": "markdown",
   "metadata": {},
   "source": [
    "### Estimation: $\\varepsilon k$\n",
    "We will do this part in Stata, so save the required files as \".dta\"."
   ]
  },
  {
   "cell_type": "code",
   "execution_count": null,
   "metadata": {},
   "outputs": [],
   "source": [
    "# travel cost data\n",
    "nbh_travel_cost_melted.to_stata(\n",
    "    'JJinTP_data_TW/for_stata/travel_cost.dta'\n",
    ")\n",
    "\n",
    "# commuting flow\n",
    "# TODO: not sure if the denominator is aggregated for entire file or just that county\n",
    "cf = pd.read_csv(\n",
    "    os.path.join(FOLDER_SURVEY_MAIN, 'commuting_flow.csv'),\n",
    "    dtype={'A_TOWNCODE': 'str', 'B_TOWNCODE': 'str'}\n",
    ")\n",
    "tot_cnt = sum(cf['count'])\n",
    "cf['count'] = cf['count'] / tot_cnt\n",
    "\n",
    "cf.to_stata(\n",
    "    'JJinTP_data_TW/for_stata/commuting_flow.dta'\n",
    ")"
   ]
  },
  {
   "cell_type": "markdown",
   "metadata": {},
   "source": [
    "# This completes the whole travel cost procedure.\n",
    "<!--jupyter nbconvert --to html travel_cost_procedure.ipynb -->"
   ]
  },
  {
   "cell_type": "code",
   "execution_count": 4,
   "metadata": {},
   "outputs": [],
   "source": [
    "# # Revised travel time data with the old data\n",
    "# keep_cols = ['A_villcode', 'B_villcode', 'AB_travel_time', 'BA_travel_time']\n",
    "# old_data = pd.read_csv(\n",
    "#     os.path.join('JJinTP_data_TW/archive/', 'public_travel_time.csv'),\n",
    "#     usecols=keep_cols\n",
    "# )\n",
    "# new_data = pd.read_csv(\n",
    "#     os.path.join('JJinTP_data_TW/public_data/Main/', 'public_travel_time.csv'),\n",
    "#     usecols=keep_cols\n",
    "# )\n",
    "\n",
    "# check = new_data.merge(\n",
    "#     old_data.rename(columns={'AB_travel_time': 'AB_travel_time_old', 'BA_travel_time': 'BA_travel_time_old'}),\n",
    "#     on=['A_villcode', 'B_villcode'], how='left'\n",
    "# )\n",
    "\n",
    "# # for those having (same A->B and B->A) and the time is less than 1800 in the new data,\n",
    "# # if data in the old columns are smaller, fill with the old data\n",
    "# cond = (check['AB_travel_time'] == check['BA_travel_time']) &\\\n",
    "#        (check['AB_travel_time'] < 1800) &\\\n",
    "#        ((check['AB_travel_time'] > check['AB_travel_time_old']) |\\\n",
    "#         (check['BA_travel_time'] > check['BA_travel_time_old']))\n",
    "# check[['AB_travel_time_new', 'BA_travel_time_new']] = check[['AB_travel_time', 'BA_travel_time']]\n",
    "# check.loc[cond, ['AB_travel_time_new', 'BA_travel_time_new']] = check.loc[cond, ['AB_travel_time_old', 'BA_travel_time_old']].values\n",
    "\n",
    "# check = check.drop(columns=['AB_travel_time', 'BA_travel_time', 'AB_travel_time_old', 'BA_travel_time_old'])\n",
    "# check = check.rename(columns={'AB_travel_time_new': 'AB_travel_time', 'BA_travel_time_new': 'BA_travel_time'})\n",
    "# check.to_csv('JJinTP_data_TW/public_data/Main/public_travel_time_revised.csv', index=False)"
   ]
  },
  {
   "cell_type": "code",
   "execution_count": 5,
   "metadata": {},
   "outputs": [],
   "source": [
    "# The following code is for replacing transit time with walking time\n",
    "\n",
    "# import helper\n",
    "# import os\n",
    "\n",
    "# # ======== File and Folder settings ========\n",
    "# FOLDER_PUBLIC_RAW = 'JJinTP_data_TW/public_data/Raw/'\n",
    "# FOLDER_PUBLIC_SCRATCH = 'JJinTP_data_TW/public_data/Scratch/'\n",
    "# FOLDER_PUBLIC_MAIN = 'JJinTP_data_TW/public_data/Main/'\n",
    "\n",
    "# # The calibration data keeps only the counties we need\n",
    "# FILE_CALIB = \"JJinTP_data_TW/calibration_data_TP.csv\"\n",
    "\n",
    "# # This is the full list of all counties in the Taipei Metropolitan,\n",
    "# # with the longitude and latitude of the county centroids\n",
    "# FILE_VILL_CENTROID = \"JJinTP_data_TW/village_centroid_TP.csv\"\n",
    "\n",
    "# # The walking data by OSRM\n",
    "# FILE_WALKING = os.path.join(FOLDER_PUBLIC_MAIN, 'travel_walking.csv')\n",
    "\n",
    "# hpt = helper.Helper_public_travel(\n",
    "#     calib_fpath=FILE_CALIB,\n",
    "#     centroid_path=FILE_VILL_CENTROID,\n",
    "#     walk_fpath=FILE_WALKING,\n",
    "#     public_merged_fname='merged_public.csv'\n",
    "# )\n",
    "\n",
    "# hpt.update_with_walk(\n",
    "#     final_public_fpath=os.path.join(FOLDER_PUBLIC_MAIN, \"public_travel_time_revised.csv\"),\n",
    "# )"
   ]
  }
 ],
 "metadata": {
  "kernelspec": {
   "display_name": "env",
   "language": "python",
   "name": "python3"
  },
  "language_info": {
   "codemirror_mode": {
    "name": "ipython",
    "version": 3
   },
   "file_extension": ".py",
   "mimetype": "text/x-python",
   "name": "python",
   "nbconvert_exporter": "python",
   "pygments_lexer": "ipython3",
   "version": "3.12.4"
  }
 },
 "nbformat": 4,
 "nbformat_minor": 2
}
