{
 "cells": [
  {
   "cell_type": "markdown",
   "metadata": {},
   "source": [
    "# Introduction\n",
    "The purpose of this file is to get the public transit data from TDX. Since there are multiple steps to get the complete bilateral public travel data, we use the form of notebook rather than python script file for clearer demonstration.\n",
    "\n",
    "Specifically, there are ?? steps:\n",
    "0. Fetch the data from TDX for all of the bilateral pairs (pairs are split into several files).\n",
    "1. Stack the results from TDX.\n",
    "2. Check for missing travel time on either going back or forth, should there exist such pairs, collect them and change to another departure time and run again.\n",
    "3. There will still be some pairs that have no entry, and we will treat these pairs in two ways: fill with walking time (if their walking time is less than 30 mins) or manually look them up using Google Maps (there won't be many so this is viable).\n",
    "\n",
    "Finally, merge all the data and we will get our public travel time data. Optionally, we can turn the result into a matrix."
   ]
  }
 ],
 "metadata": {
  "kernelspec": {
   "display_name": "env",
   "language": "python",
   "name": "python3"
  },
  "language_info": {
   "codemirror_mode": {
    "name": "ipython",
    "version": 3
   },
   "file_extension": ".py",
   "mimetype": "text/x-python",
   "name": "python",
   "nbconvert_exporter": "python",
   "pygments_lexer": "ipython3",
   "version": "3.12.3"
  }
 },
 "nbformat": 4,
 "nbformat_minor": 2
}
