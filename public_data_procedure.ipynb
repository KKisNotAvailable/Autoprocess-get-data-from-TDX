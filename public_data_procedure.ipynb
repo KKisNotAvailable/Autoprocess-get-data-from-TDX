{
    "cells": [
        {
            "cell_type": "markdown",
            "metadata": {},
            "source": [
                "# Introduction\n",
                "The purpose of this file is to get the public transit data from TDX. Since there are multiple steps to get the complete bilateral public travel data, we figured the form of notebook gives clearer deomnstration of the entire process than python script files.\n",
                "\n",
                "Specifically, there are three steps:\n",
                "1. Fetch the data from TDX for all of the bilateral pairs (pairs are split into several files die to API service limitation), and stack the results.\n",
                "2. Check for missing travel times on either going back or forth, should there exist such pairs, collect them and run again with different departure times.\n",
                "3. There will still be some pairs with no entry, and they are treated in two ways: fill with walking time (if their walking time is less than 30 mins) or manually look them up using Google Maps (there won't be many so this is viable).\n",
                "\n",
                "Finally, merge all the data and we will get the public travel time data. Optionally, we can turn the result into a matrix."
            ]
        },
        {
            "cell_type": "markdown",
            "metadata": {},
            "source": [
                "# 1. Retrieve Data From TDX\n",
                "The routing service can only be access through API calls, and we will roughly introduce the process.\n",
                "First, we acquire an access token, which last for 24 hours, after granted authorization (of accessing API) with our client ID and client secret. Then when we access the routing result through API, with this access token attached.\n",
                "In our implementation, for the purpose of data storage efficiency, with a pair of points A and B, we fetch the results of \"A to B\" and \"B to A\" at the same time and store them in the same row.\n",
                "Therefore, for a pair of points, the code would be simply calling functions like the following block."
            ]
        },
        {
            "cell_type": "code",
            "execution_count": null,
            "metadata": {},
            "outputs": [],
            "source": [
                "# Single Pair Example\n",
                "import TDX_retriever as tr\n",
                "import pandas as pd\n",
                "\n",
                "# your info of api\n",
                "client_id = \"your-client-id\"\n",
                "client_secret = \"your-client-secret\"\n",
                "TDX = tr.TDX_retriever(client_id, client_secret)\n",
                "\n",
                "# some centroids as example\n",
                "c1 = [24.9788580602204, 121.55598430669878]\n",
                "c2 = [24.92583789587648, 121.34128216256848]\n",
                "\n",
                "# get routing result from TDX, the returned data is filtered, not original respond\n",
                "single_pair_res = TDX.get_transport_result(c1, c2)\n",
                "\n",
                "# save as a dataframe\n",
                "cols = [\n",
                "    'A_lat', 'A_lon', 'B_lat', 'B_lon',\n",
                "    'AB_travel_time', 'AB_ttl_cost', 'AB_transfer_cnt', 'AB_route',\n",
                "    'BA_travel_time', 'BA_ttl_cost', 'BA_transfer_cnt', 'BA_route'\n",
                "]\n",
                "df = pd.DataFrame(columns=cols)\n",
                "df.loc[len(df)] = single_pair_res\n",
                "\n",
                "# show the df\n",
                "df"
            ]
        },
        {
            "cell_type": "markdown",
            "metadata": {},
            "source": [
                "For a list of pairs, we call the functions in basically the same way. However, due to the API access limitation, we have to split the list into multiple sub-files. Therefore, when running the code, we need to provide the serial number of the sub-files as the command-line arguments. Another commend-line argument required is the path to your API information. The following is an example of command-line for executing the code, using the 7th sub-file.\n",
                "```\n",
                "python TDX_retriever.py your_api_info.json 7\n",
                "```\n",
                "The following block is an example of the layout in the api info json file."
            ]
        },
        {
            "cell_type": "raw",
            "metadata": {
                "vscode": {
                    "languageId": "raw"
                }
            },
            "source": [
                "{\n",
                "    \"client_id\": \"your-client-id\",\n",
                "    \"client_secret\": \"your-client-secret\"\n",
                "}"
            ]
        },
        {
            "cell_type": "markdown",
            "metadata": {},
            "source": [
                "In fact, we execute the code using batch script files (\".bat\" files). As we just mentioned, there are multiple subfiles and such batch files makes rerun the code much easier. Before an example of the content in the batch file, here are some notes:\n",
                "* Things after \"@REM\" are comments.\n",
                "* In our case, we set the batch file name as \"run_py_key1.bat\" and read the api information from a json file called \"api_key1.json\".\n",
                "* We put the serial number as a command-line argument here, and the batch file will pass this number to the step we execute the code.\n",
                "\n",
                "Batch file commmand-line execution example: \n",
                "```\n",
                "run_py_key1.bat 7\n",
                "```\n",
                "The following code is an example of batch files."
            ]
        },
        {
            "cell_type": "code",
            "execution_count": null,
            "metadata": {
                "vscode": {
                    "languageId": "bat"
                }
            },
            "outputs": [],
            "source": [
                "@REM set the file name as a variable, for example, \"fname\" would be \"run_py_key1\"\n",
                "set fname=%~n0\n",
                "@REM %fname:~7,4% is extracting 4 characters,\n",
                "@REM starting from the 8th character from \"run_py_key1\"\n",
                "@REM therefore \"%fname:~7,4%\" would be \"key1\"\n",
                "python TDX_retriever.py env\\api_%fname:~7,4%.json %1"
            ]
        },
        {
            "cell_type": "markdown",
            "metadata": {},
            "source": [
                "Since we use VS code as our main editor, there's a function called \"task\" that makes our lives even easier when it comes to executing batch files. To do this, we need to create a file called \"tasks.json\" and save it in a folder called \".vscode\". Example of the \"tasks.json\" file as the next block."
            ]
        },
        {
            "cell_type": "raw",
            "metadata": {
                "vscode": {
                    "languageId": "raw"
                }
            },
            "source": [
                "{\n",
                "    \"version\": \"2.0.0\",\n",
                "    \"tasks\": [\n",
                "        {\n",
                "            \"label\": \"get TDX with key 1 on file 7\",\n",
                "            \"type\": \"shell\",\n",
                "            \"command\": \"env\\\\run_py_key1.bat 7\"\n",
                "        },\n",
                "        {\n",
                "            \"label\": \"get TDX with key 1 on file 8\",\n",
                "            \"type\": \"shell\",\n",
                "            \"command\": \"env\\\\run_py_key1.bat 8\"\n",
                "        },\n",
                "        {\n",
                "            \"label\": \"run all\",\n",
                "            \"dependsOn\": [\n",
                "                \"get TDX with key 1 on file 7\",\n",
                "                \"get TDX with key 1 on file 8\"\n",
                "            ],\n",
                "            \"dependsOrder\": \"parallel\",\n",
                "            \"presentation\": {\n",
                "                \"reveal\": \"always\",\n",
                "                \"revealProblems\": \"onProblem\",\n",
                "                \"panel\": \"new\"\n",
                "            }\n",
                "        }\n",
                "    ]\n",
                "}"
            ]
        },
        {
            "cell_type": "markdown",
            "metadata": {},
            "source": [
                "# 2. Fill Missing "
            ]
        }
    ],
    "metadata": {
        "author": "Kai-Yuan Ke",
        "date": "2025-02-25",
        "kernelspec": {
            "display_name": "env",
            "language": "python",
            "name": "python3"
        },
        "language_info": {
            "codemirror_mode": {
                "name": "ipython",
                "version": 3
            },
            "file_extension": ".py",
            "mimetype": "text/x-python",
            "name": "python",
            "nbconvert_exporter": "python",
            "pygments_lexer": "ipython3",
            "version": "3.12.3"
        }
    },
    "nbformat": 4,
    "nbformat_minor": 2
}
