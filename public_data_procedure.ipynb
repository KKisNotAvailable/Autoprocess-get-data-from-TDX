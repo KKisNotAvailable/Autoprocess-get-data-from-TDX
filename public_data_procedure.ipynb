{
    "cells": [
        {
            "cell_type": "markdown",
            "metadata": {},
            "source": [
                "# Introduction\n",
                "The purpose of this file is to get the public transit data from TDX. Since there are multiple steps to get the complete bilateral public travel data, we figured the form of notebook gives clearer deomnstration of the entire process than python script files.\n",
                "\n",
                "Specifically, there are three steps:\n",
                "1. Fetch the data from TDX for all of the bilateral pairs (pairs are split into several files die to API service limitation), and stack the results.\n",
                "2. Check for missing travel times on either going back or forth, should there exist such pairs, collect them and run again with different departure times.\n",
                "3. There will still be some pairs with no entry, and they are treated in two ways: fill with walking time (if their walking time is less than 30 mins) or manually look them up using Google Maps (there won't be many so this is viable).\n",
                "\n",
                "Finally, merge all the data and we will get the public travel time data. Optionally, we can turn the result into a matrix."
            ]
        },
        {
            "cell_type": "markdown",
            "metadata": {},
            "source": [
                "# 1. Retrieve Data From TDX\n",
                "(There won't be the actual code for this section, since we cannot finish this step within a day, took me two weeks actually.)\n",
                "So we will only demonstrate / explain a bit how this works, and then read the files we already get.\n",
                "The routing service can only be access through API calls.\n",
                "First, we acquire an access token, which last for 24 hours, after granted authorization with our API id and API key. Then we use this access token, along with the service url, which has routing specific conditions appended, to "
            ]
        },
        {
            "cell_type": "markdown",
            "metadata": {},
            "source": [
                "# 2. Fill Missing "
            ]
        }
    ],
    "metadata": {
        "author": "Kai-Yuan Ke",
        "date": "2025-02-25",
        "kernelspec": {
            "display_name": "env",
            "language": "python",
            "name": "python3"
        },
        "language_info": {
            "codemirror_mode": {
                "name": "ipython",
                "version": 3
            },
            "file_extension": ".py",
            "mimetype": "text/x-python",
            "name": "python",
            "nbconvert_exporter": "python",
            "pygments_lexer": "ipython3",
            "version": "3.11.1"
        }
    },
    "nbformat": 4,
    "nbformat_minor": 2
}
